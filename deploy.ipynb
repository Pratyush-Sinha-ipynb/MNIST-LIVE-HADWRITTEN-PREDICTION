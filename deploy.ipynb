{
 "cells": [
  {
   "cell_type": "code",
   "execution_count": 1,
   "id": "99e66792",
   "metadata": {},
   "outputs": [],
   "source": [
    "import cv2\n",
    "import numpy as np\n",
    "import matplotlib.pyplot as plt\n",
    "from tensorflow.keras.models import load_model\n",
    "from keras.datasets import mnist\n",
    "\n",
    "%matplotlib inline\n",
    "\n",
    "classifier = load_model('MNIST_40_epochs.h5')\n",
    "\n",
    "drawing=False\n",
    "cv2.namedWindow('win')\n",
    "black_image = np.zeros((256,256,3),np.uint8)\n",
    "ix,iy=-1,-1\n",
    "\n",
    "def draw_circles(event,x,y,flags,param):\n",
    "    global ix,iy,drawing\n",
    "    if event== cv2.EVENT_LBUTTONDOWN:\n",
    "        drawing=True\n",
    "        ix,iy=x,y\n",
    "        \n",
    "    elif event==cv2.EVENT_MOUSEMOVE:\n",
    "        if drawing==True:\n",
    "            cv2.circle(black_image,(x,y),5,(255,255,255),-1)\n",
    "            \n",
    "    elif event==cv2.EVENT_LBUTTONUP:\n",
    "        drawing = False\n",
    "        \n",
    "cv2.setMouseCallback('win',draw_circles)\n",
    "\n",
    "while True:\n",
    "    cv2.imshow('win',black_image)\n",
    "    if cv2.waitKey(1)==27:\n",
    "        break\n",
    "    elif cv2.waitKey(1)==13:\n",
    "        input_img = cv2.resize(black_image,(28,28))\n",
    "        input_img = cv2.cvtColor(input_img,cv2.COLOR_BGR2GRAY)\n",
    "        input_img = input_img.reshape(1,28,28,1)\n",
    "        res = np.argmax(classifier.predict(input_img,1,verbose=0))\n",
    "        cv2.putText(black_image,text=str(res),org=(205,30),fontFace=cv2.FONT_HERSHEY_SIMPLEX,fontScale=1,color=(255,255,255),thickness=2)\n",
    "    elif cv2.waitKey(1)==ord('c'):\n",
    "        black_image = np.zeros((256,256,3),np.uint8)\n",
    "        ix,iy=-1,-1\n",
    "cv2.destroyAllWindows()"
   ]
  },
  {
   "cell_type": "code",
   "execution_count": null,
   "id": "035c1ab7",
   "metadata": {},
   "outputs": [],
   "source": []
  }
 ],
 "metadata": {
  "kernelspec": {
   "display_name": "Python 3 (ipykernel)",
   "language": "python",
   "name": "python3"
  },
  "language_info": {
   "codemirror_mode": {
    "name": "ipython",
    "version": 3
   },
   "file_extension": ".py",
   "mimetype": "text/x-python",
   "name": "python",
   "nbconvert_exporter": "python",
   "pygments_lexer": "ipython3",
   "version": "3.9.16"
  }
 },
 "nbformat": 4,
 "nbformat_minor": 5
}
