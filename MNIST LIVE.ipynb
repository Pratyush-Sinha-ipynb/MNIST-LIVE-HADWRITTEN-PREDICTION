{
 "cells": [
  {
   "cell_type": "code",
   "execution_count": 1,
   "metadata": {},
   "outputs": [],
   "source": [
    "import cv2\n",
    "import numpy as np\n",
    "import matplotlib.pyplot as plt\n",
    "from tensorflow.keras.models import load_model\n",
    "from keras.datasets import mnist\n",
    "\n",
    "%matplotlib inline"
   ]
  },
  {
   "cell_type": "code",
   "execution_count": null,
   "metadata": {},
   "outputs": [],
   "source": []
  },
  {
   "cell_type": "code",
   "execution_count": 2,
   "metadata": {},
   "outputs": [
    {
     "name": "stdout",
     "output_type": "stream",
     "text": [
      "Downloading data from https://storage.googleapis.com/tensorflow/tf-keras-datasets/mnist.npz\n",
      "11490434/11490434 [==============================] - 3s 0us/step\n"
     ]
    },
    {
     "data": {
      "text/plain": [
       "(60000, 28, 28)"
      ]
     },
     "execution_count": 2,
     "metadata": {},
     "output_type": "execute_result"
    }
   ],
   "source": [
    "(train_X,train_y),(test_X,test_y) = mnist.load_data()\n",
    "train_X.shape"
   ]
  },
  {
   "cell_type": "code",
   "execution_count": 3,
   "metadata": {},
   "outputs": [
    {
     "data": {
      "text/plain": [
       "numpy.ndarray"
      ]
     },
     "execution_count": 3,
     "metadata": {},
     "output_type": "execute_result"
    }
   ],
   "source": [
    "type(train_X[0])"
   ]
  },
  {
   "cell_type": "code",
   "execution_count": 4,
   "metadata": {},
   "outputs": [
    {
     "data": {
      "text/plain": [
       "<matplotlib.image.AxesImage at 0x23393454c70>"
      ]
     },
     "execution_count": 4,
     "metadata": {},
     "output_type": "execute_result"
    },
    {
     "data": {
      "image/png": "[encoded data removed]",
      "text/plain": [
       "<Figure size 640x480 with 1 Axes>"
      ]
     },
     "metadata": {},
     "output_type": "display_data"
    }
   ],
   "source": [
    "plt.imshow(train_X[1],cmap='gray')"
   ]
  },
  {
   "cell_type": "code",
   "execution_count": 5,
   "metadata": {},
   "outputs": [
    {
     "ename": "NameError",
     "evalue": "name 'train_x' is not defined",
     "output_type": "error",
     "traceback": [
      "\u001b[1;31m---------------------------------------------------------------------------\u001b[0m",
      "\u001b[1;31mNameError\u001b[0m                                 Traceback (most recent call last)",
      "Cell \u001b[1;32mIn[5], line 1\u001b[0m\n\u001b[1;32m----> 1\u001b[0m \u001b[38;5;28mtype\u001b[39m(\u001b[43mtrain_x\u001b[49m)\n",
      "\u001b[1;31mNameError\u001b[0m: name 'train_x' is not defined"
     ]
    }
   ],
   "source": [
    "type(train_x)"
   ]
  },
  {
   "cell_type": "code",
   "execution_count": 6,
   "metadata": {},
   "outputs": [],
   "source": [
    "#normalize and reshaping our X data\n",
    "train_X = train_X.reshape(-1,28,28,1)\n",
    "test_X  = test_X.reshape(-1,28,28,1)\n",
    "\n",
    "train_X = train_X.astype('float32')\n",
    "test_X  = test_X.astype('float32')\n",
    "\n",
    "train_X = train_X/255\n",
    "test_X  = test_X/255\n",
    "\n",
    "#one hot encode our y data\n",
    "from keras.utils import np_utils \n",
    "train_y = np_utils.to_categorical(train_y)\n",
    "test_y  = np_utils.to_categorical(test_y)"
   ]
  },
  {
   "cell_type": "code",
   "execution_count": 7,
   "metadata": {},
   "outputs": [
    {
     "data": {
      "text/plain": [
       "numpy.ndarray"
      ]
     },
     "execution_count": 7,
     "metadata": {},
     "output_type": "execute_result"
    }
   ],
   "source": [
    "type(train_X)"
   ]
  },
  {
   "cell_type": "code",
   "execution_count": 8,
   "metadata": {},
   "outputs": [
    {
     "name": "stdout",
     "output_type": "stream",
     "text": [
      "Model: \"sequential\"\n",
      "_________________________________________________________________\n",
      " Layer (type)                Output Shape              Param #   \n",
      "=================================================================\n",
      " conv2d (Conv2D)             (None, 28, 28, 32)        832       \n",
      "                                                                 \n",
      " max_pooling2d (MaxPooling2D  (None, 14, 14, 32)       0         \n",
      " )                                                               \n",
      "                                                                 \n",
      " conv2d_1 (Conv2D)           (None, 14, 14, 64)        51264     \n",
      "                                                                 \n",
      " max_pooling2d_1 (MaxPooling  (None, 7, 7, 64)         0         \n",
      " 2D)                                                             \n",
      "                                                                 \n",
      " dropout (Dropout)           (None, 7, 7, 64)          0         \n",
      "                                                                 \n",
      " flatten (Flatten)           (None, 3136)              0         \n",
      "                                                                 \n",
      " dense (Dense)               (None, 128)               401536    \n",
      "                                                                 \n",
      " dropout_1 (Dropout)         (None, 128)               0         \n",
      "                                                                 \n",
      " dense_1 (Dense)             (None, 10)                1290      \n",
      "                                                                 \n",
      "=================================================================\n",
      "Total params: 454,922\n",
      "Trainable params: 454,922\n",
      "Non-trainable params: 0\n",
      "_________________________________________________________________\n",
      "None\n"
     ]
    }
   ],
   "source": [
    "#creating our model\n",
    "input_shape=(28,28,1)\n",
    "\n",
    "from tensorflow.keras.models import Sequential\n",
    "from tensorflow.keras.layers import Conv2D,Flatten,Dropout,Dense,MaxPooling2D\n",
    "from tensorflow.keras.optimizers import SGD\n",
    "model = Sequential()\n",
    "\n",
    "model.add(Conv2D(32,kernel_size=(5,5),activation='relu',input_shape=input_shape,padding='SAME'))\n",
    "model.add(MaxPooling2D(pool_size=(2,2)))\n",
    "\n",
    "model.add(Conv2D(64,(5,5),activation='relu',padding='SAME'))\n",
    "model.add(MaxPooling2D(pool_size=(2,2)))\n",
    "model.add(Dropout(0.25))\n",
    "\n",
    "model.add(Flatten())\n",
    "model.add(Dense(128,activation='relu'))\n",
    "model.add(Dropout(0.5))\n",
    "model.add(Dense(10,activation='softmax'))\n",
    "\n",
    "model.compile(loss='categorical_crossentropy',\n",
    "              optimizer=SGD(learning_rate=0.02),\n",
    "              metrics=['accuracy'])\n",
    "\n",
    "print(model.summary())"
   ]
  },
  {
   "cell_type": "code",
   "execution_count": 9,
   "metadata": {
    "scrolled": false
   },
   "outputs": [
    {
     "name": "stdout",
     "output_type": "stream",
     "text": [
      "Epoch 1/40\n",
      "1875/1875 [==============================] - 14s 4ms/step - loss: 0.4522 - accuracy: 0.8572 - val_loss: 0.0892 - val_accuracy: 0.9715\n",
      "Epoch 2/40\n",
      "1875/1875 [==============================] - 9s 5ms/step - loss: 0.1453 - accuracy: 0.9563 - val_loss: 0.0647 - val_accuracy: 0.9779\n",
      "Epoch 3/40\n",
      "1875/1875 [==============================] - 8s 4ms/step - loss: 0.1095 - accuracy: 0.9665 - val_loss: 0.0465 - val_accuracy: 0.9850\n",
      "Epoch 4/40\n",
      "1875/1875 [==============================] - 9s 5ms/step - loss: 0.0914 - accuracy: 0.9727 - val_loss: 0.0384 - val_accuracy: 0.9867\n",
      "Epoch 5/40\n",
      "1875/1875 [==============================] - 8s 4ms/step - loss: 0.0776 - accuracy: 0.9767 - val_loss: 0.0378 - val_accuracy: 0.9885\n",
      "Epoch 6/40\n",
      "1875/1875 [==============================] - 8s 4ms/step - loss: 0.0712 - accuracy: 0.9783 - val_loss: 0.0338 - val_accuracy: 0.9874\n",
      "Epoch 7/40\n",
      "1875/1875 [==============================] - 8s 4ms/step - loss: 0.0635 - accuracy: 0.9809 - val_loss: 0.0297 - val_accuracy: 0.9906\n",
      "Epoch 8/40\n",
      "1875/1875 [==============================] - 8s 4ms/step - loss: 0.0597 - accuracy: 0.9816 - val_loss: 0.0285 - val_accuracy: 0.9906\n",
      "Epoch 9/40\n",
      "1875/1875 [==============================] - 8s 4ms/step - loss: 0.0538 - accuracy: 0.9834 - val_loss: 0.0260 - val_accuracy: 0.9906\n",
      "Epoch 10/40\n",
      "1875/1875 [==============================] - 8s 4ms/step - loss: 0.0513 - accuracy: 0.9849 - val_loss: 0.0261 - val_accuracy: 0.9908\n",
      "Epoch 11/40\n",
      "1875/1875 [==============================] - 8s 4ms/step - loss: 0.0475 - accuracy: 0.9853 - val_loss: 0.0254 - val_accuracy: 0.9910\n",
      "Epoch 12/40\n",
      "1875/1875 [==============================] - 8s 4ms/step - loss: 0.0447 - accuracy: 0.9864 - val_loss: 0.0245 - val_accuracy: 0.9915\n",
      "Epoch 13/40\n",
      "1875/1875 [==============================] - 8s 4ms/step - loss: 0.0434 - accuracy: 0.9864 - val_loss: 0.0219 - val_accuracy: 0.9918\n",
      "Epoch 14/40\n",
      "1875/1875 [==============================] - 8s 4ms/step - loss: 0.0400 - accuracy: 0.9879 - val_loss: 0.0199 - val_accuracy: 0.9931\n",
      "Epoch 15/40\n",
      "1875/1875 [==============================] - 8s 4ms/step - loss: 0.0378 - accuracy: 0.9883 - val_loss: 0.0209 - val_accuracy: 0.9933\n",
      "Epoch 16/40\n",
      "1875/1875 [==============================] - 8s 4ms/step - loss: 0.0370 - accuracy: 0.9884 - val_loss: 0.0198 - val_accuracy: 0.9926\n",
      "Epoch 17/40\n",
      "1875/1875 [==============================] - 8s 4ms/step - loss: 0.0341 - accuracy: 0.9893 - val_loss: 0.0215 - val_accuracy: 0.9925\n",
      "Epoch 18/40\n",
      "1875/1875 [==============================] - 8s 4ms/step - loss: 0.0344 - accuracy: 0.9897 - val_loss: 0.0198 - val_accuracy: 0.9929\n",
      "Epoch 19/40\n",
      "1875/1875 [==============================] - 8s 4ms/step - loss: 0.0312 - accuracy: 0.9898 - val_loss: 0.0206 - val_accuracy: 0.9933\n",
      "Epoch 20/40\n",
      "1875/1875 [==============================] - 8s 4ms/step - loss: 0.0312 - accuracy: 0.9906 - val_loss: 0.0203 - val_accuracy: 0.9924\n",
      "Epoch 21/40\n",
      "1875/1875 [==============================] - 8s 4ms/step - loss: 0.0311 - accuracy: 0.9899 - val_loss: 0.0190 - val_accuracy: 0.9930\n",
      "Epoch 22/40\n",
      "1875/1875 [==============================] - 8s 4ms/step - loss: 0.0282 - accuracy: 0.9912 - val_loss: 0.0188 - val_accuracy: 0.9935\n",
      "Epoch 23/40\n",
      "1875/1875 [==============================] - 8s 4ms/step - loss: 0.0265 - accuracy: 0.9914 - val_loss: 0.0199 - val_accuracy: 0.9925\n",
      "Epoch 24/40\n",
      "1875/1875 [==============================] - 8s 4ms/step - loss: 0.0267 - accuracy: 0.9918 - val_loss: 0.0206 - val_accuracy: 0.9932\n",
      "Epoch 25/40\n",
      "1875/1875 [==============================] - 8s 4ms/step - loss: 0.0262 - accuracy: 0.9917 - val_loss: 0.0171 - val_accuracy: 0.9938\n",
      "Epoch 26/40\n",
      "1875/1875 [==============================] - 8s 4ms/step - loss: 0.0252 - accuracy: 0.9920 - val_loss: 0.0178 - val_accuracy: 0.9935\n",
      "Epoch 27/40\n",
      "1875/1875 [==============================] - 8s 4ms/step - loss: 0.0244 - accuracy: 0.9927 - val_loss: 0.0183 - val_accuracy: 0.9936\n",
      "Epoch 28/40\n",
      "1875/1875 [==============================] - 8s 4ms/step - loss: 0.0224 - accuracy: 0.9929 - val_loss: 0.0171 - val_accuracy: 0.9940\n",
      "Epoch 29/40\n",
      "1875/1875 [==============================] - 8s 4ms/step - loss: 0.0222 - accuracy: 0.9931 - val_loss: 0.0197 - val_accuracy: 0.9935\n",
      "Epoch 30/40\n",
      "1875/1875 [==============================] - 8s 4ms/step - loss: 0.0222 - accuracy: 0.9931 - val_loss: 0.0167 - val_accuracy: 0.9943\n",
      "Epoch 31/40\n",
      "1875/1875 [==============================] - 8s 4ms/step - loss: 0.0217 - accuracy: 0.9932 - val_loss: 0.0183 - val_accuracy: 0.9934\n",
      "Epoch 32/40\n",
      "1875/1875 [==============================] - 8s 4ms/step - loss: 0.0196 - accuracy: 0.9938 - val_loss: 0.0181 - val_accuracy: 0.9934\n",
      "Epoch 33/40\n",
      "1875/1875 [==============================] - 8s 4ms/step - loss: 0.0196 - accuracy: 0.9936 - val_loss: 0.0176 - val_accuracy: 0.9943\n",
      "Epoch 34/40\n",
      "1875/1875 [==============================] - 8s 4ms/step - loss: 0.0204 - accuracy: 0.9935 - val_loss: 0.0168 - val_accuracy: 0.9937\n",
      "Epoch 35/40\n",
      "1875/1875 [==============================] - 8s 4ms/step - loss: 0.0190 - accuracy: 0.9937 - val_loss: 0.0167 - val_accuracy: 0.9932\n",
      "Epoch 36/40\n",
      "1875/1875 [==============================] - 8s 4ms/step - loss: 0.0188 - accuracy: 0.9938 - val_loss: 0.0162 - val_accuracy: 0.9941\n",
      "Epoch 37/40\n",
      "1875/1875 [==============================] - 8s 4ms/step - loss: 0.0185 - accuracy: 0.9938 - val_loss: 0.0174 - val_accuracy: 0.9938\n",
      "Epoch 38/40\n",
      "1875/1875 [==============================] - 8s 4ms/step - loss: 0.0177 - accuracy: 0.9943 - val_loss: 0.0176 - val_accuracy: 0.9944\n",
      "Epoch 39/40\n",
      "1875/1875 [==============================] - 8s 4ms/step - loss: 0.0176 - accuracy: 0.9939 - val_loss: 0.0177 - val_accuracy: 0.9934\n",
      "Epoch 40/40\n",
      "1875/1875 [==============================] - 8s 4ms/step - loss: 0.0169 - accuracy: 0.9947 - val_loss: 0.0173 - val_accuracy: 0.9938\n",
      "Test loss --->  1.73%\n",
      "Test accuracy --->  99.38%\n"
     ]
    }
   ],
   "source": [
    "# training our data\n",
    "batch_size=32\n",
    "epochs=40\n",
    "\n",
    "plotting_data = model.fit(train_X,\n",
    "                          train_y,\n",
    "                          batch_size=batch_size,\n",
    "                          epochs=epochs,\n",
    "                          verbose=1,\n",
    "                          validation_data=(test_X,test_y))\n",
    "\n",
    "loss,accuracy = model.evaluate(test_X,test_y,verbose=0)\n",
    "\n",
    "print('Test loss ---> ',str(round(loss*100,2)) +str('%'))\n",
    "print('Test accuracy ---> ',str(round(accuracy*100,2)) +str('%'))"
   ]
  },
  {
   "cell_type": "code",
   "execution_count": 10,
   "metadata": {},
   "outputs": [
    {
     "data": {
      "text/plain": [
       "<matplotlib.legend.Legend at 0x233b961fd90>"
      ]
     },
     "execution_count": 10,
     "metadata": {},
     "output_type": "execute_result"
    },
    {
     "data": {
      "image/png": "[encoded data removed]",
      "text/plain": [
       "<Figure size 640x480 with 1 Axes>"
      ]
     },
     "metadata": {},
     "output_type": "display_data"
    }
   ],
   "source": [
    "plotting_data_dict = plotting_data.history\n",
    "\n",
    "test_loss = plotting_data_dict['val_loss']\n",
    "training_loss = plotting_data_dict['loss']\n",
    "test_accuracy = plotting_data_dict['val_accuracy']\n",
    "training_accuracy = plotting_data_dict['accuracy']\n",
    "\n",
    "epochs = range(1,len(test_loss)+1)\n",
    "\n",
    "plt.plot(epochs,test_loss,marker='X',label='test_loss')\n",
    "plt.plot(epochs,training_loss,marker='X',label='training_loss')\n",
    "plt.legend()"
   ]
  },
  {
   "cell_type": "code",
   "execution_count": 11,
   "metadata": {},
   "outputs": [
    {
     "data": {
      "text/plain": [
       "<matplotlib.legend.Legend at 0x233b9d005b0>"
      ]
     },
     "execution_count": 11,
     "metadata": {},
     "output_type": "execute_result"
    },
    {
     "data": {
      "image/png": "[encoded data removed]",
      "text/plain": [
       "<Figure size 640x480 with 1 Axes>"
      ]
     },
     "metadata": {},
     "output_type": "display_data"
    }
   ],
   "source": [
    "plt.plot(epochs,test_accuracy,marker='X',label='test_accuracy')\n",
    "plt.plot(epochs,training_accuracy,marker='X',label='training_accuracy')\n",
    "plt.legend()"
   ]
  },
  {
   "cell_type": "code",
   "execution_count": 12,
   "metadata": {},
   "outputs": [
    {
     "name": "stdout",
     "output_type": "stream",
     "text": [
      "Model Saved !!!\n"
     ]
    }
   ],
   "source": [
    "model.save('MNIST_40_epochs.h5')\n",
    "print('Model Saved !!!')"
   ]
  },
  {
   "cell_type": "code",
   "execution_count": 13,
   "metadata": {},
   "outputs": [],
   "source": [
    "classifier = load_model('MNIST_40_epochs.h5')"
   ]
  },
  {
   "cell_type": "markdown",
   "metadata": {},
   "source": [
    "# Live predictor\n"
   ]
  },
  {
   "cell_type": "code",
   "execution_count": null,
   "metadata": {},
   "outputs": [],
   "source": [
    "drawing=False\n",
    "cv2.namedWindow('win')\n",
    "black_image = np.zeros((256,256,3),np.uint8)\n",
    "ix,iy=-1,-1\n",
    "\n",
    "def draw_circles(event,x,y,flags,param):\n",
    "    global ix,iy,drawing\n",
    "    if event== cv2.EVENT_LBUTTONDOWN:\n",
    "        drawing=True\n",
    "        ix,iy=x,y\n",
    "        \n",
    "    elif event==cv2.EVENT_MOUSEMOVE:\n",
    "        if drawing==True:\n",
    "            cv2.circle(black_image,(x,y),5,(255,255,255),-1)\n",
    "            \n",
    "    elif event==cv2.EVENT_LBUTTONUP:\n",
    "        drawing = False\n",
    "        \n",
    "cv2.setMouseCallback('win',draw_circles)\n",
    "\n",
    "while True:\n",
    "    cv2.imshow('win',black_image)\n",
    "    if cv2.waitKey(1)==27:\n",
    "        break\n",
    "    elif cv2.waitKey(1)==13:\n",
    "        input_img = cv2.resize(black_image,(28,28))\n",
    "        input_img = cv2.cvtColor(input_img,cv2.COLOR_BGR2GRAY)\n",
    "        input_img = input_img.reshape(1,28,28,1)\n",
    "        res = np.argmax(classifier.predict(input_img,1,verbose=0))\n",
    "        cv2.putText(black_image,text=str(res),org=(205,30),fontFace=cv2.FONT_HERSHEY_SIMPLEX,fontScale=1,color=(255,255,255),thickness=2)\n",
    "    elif cv2.waitKey(1)==ord('c'):\n",
    "        black_image = np.zeros((256,256,3),np.uint8)\n",
    "        ix,iy=-1,-1\n",
    "cv2.destroyAllWindows()"
   ]
  },
  {
   "cell_type": "code",
   "execution_count": null,
   "metadata": {},
   "outputs": [],
   "source": []
  },
  {
   "cell_type": "code",
   "execution_count": null,
   "metadata": {},
   "outputs": [],
   "source": []
  }
 ],
 "metadata": {
  "interpreter": {
   "hash": "385b1ce18127a7f4fb8b34d5c57b8beaacc5cb54a2e74a6fddf2aece805e5b01"
  },
  "kernelspec": {
   "display_name": "Python 3 (ipykernel)",
   "language": "python",
   "name": "python3"
  },
  "language_info": {
   "codemirror_mode": {
    "name": "ipython",
    "version": 3
   },
   "file_extension": ".py",
   "mimetype": "text/x-python",
   "name": "python",
   "nbconvert_exporter": "python",
   "pygments_lexer": "ipython3",
   "version": "3.9.16"
  }
 },
 "nbformat": 4,
 "nbformat_minor": 2
}
